{
  "nbformat": 4,
  "nbformat_minor": 0,
  "metadata": {
    "colab": {
      "provenance": [],
      "authorship_tag": "ABX9TyPTQsrN+rCJ5S4j/mdRlHBw",
      "include_colab_link": true
    },
    "kernelspec": {
      "name": "python3",
      "display_name": "Python 3"
    },
    "language_info": {
      "name": "python"
    }
  },
  "cells": [
    {
      "cell_type": "markdown",
      "metadata": {
        "id": "view-in-github",
        "colab_type": "text"
      },
      "source": [
        "<a href=\"https://colab.research.google.com/github/NizamuddinMandekar/CodeClauseInternship/blob/main/Sentiment_Analysis_Task_1.ipynb\" target=\"_parent\"><img src=\"https://colab.research.google.com/assets/colab-badge.svg\" alt=\"Open In Colab\"/></a>"
      ]
    },
    {
      "cell_type": "code",
      "source": [
        "pip install nltk"
      ],
      "metadata": {
        "colab": {
          "base_uri": "https://localhost:8080/"
        },
        "id": "RQRc4GeWrKwQ",
        "outputId": "bcec70ff-3034-495a-9a1f-166eb8edcfd6"
      },
      "execution_count": null,
      "outputs": [
        {
          "output_type": "stream",
          "name": "stdout",
          "text": [
            "Requirement already satisfied: nltk in /usr/local/lib/python3.10/dist-packages (3.8.1)\n",
            "Requirement already satisfied: click in /usr/local/lib/python3.10/dist-packages (from nltk) (8.1.7)\n",
            "Requirement already satisfied: joblib in /usr/local/lib/python3.10/dist-packages (from nltk) (1.3.2)\n",
            "Requirement already satisfied: regex>=2021.8.3 in /usr/local/lib/python3.10/dist-packages (from nltk) (2023.12.25)\n",
            "Requirement already satisfied: tqdm in /usr/local/lib/python3.10/dist-packages (from nltk) (4.66.2)\n"
          ]
        }
      ]
    },
    {
      "cell_type": "code",
      "source": [
        "import nltk\n",
        "nltk.download('punkt')"
      ],
      "metadata": {
        "colab": {
          "base_uri": "https://localhost:8080/"
        },
        "id": "d_guDZ4CrRBw",
        "outputId": "1df91e05-327c-44fb-8781-528f4189d07f"
      },
      "execution_count": null,
      "outputs": [
        {
          "output_type": "stream",
          "name": "stderr",
          "text": [
            "[nltk_data] Downloading package punkt to /root/nltk_data...\n",
            "[nltk_data]   Unzipping tokenizers/punkt.zip.\n"
          ]
        },
        {
          "output_type": "execute_result",
          "data": {
            "text/plain": [
              "True"
            ]
          },
          "metadata": {},
          "execution_count": 11
        }
      ]
    },
    {
      "cell_type": "code",
      "execution_count": 14,
      "metadata": {
        "id": "vgNAaro3p7At",
        "colab": {
          "base_uri": "https://localhost:8080/"
        },
        "outputId": "efa38746-a740-40d1-a196-aa499a2afba6"
      },
      "outputs": [
        {
          "output_type": "stream",
          "name": "stdout",
          "text": [
            "Enter the text for sentiment analysis: Hello! Good Morning. How are you today? sorry for late reply\n",
            "Sentiment: [(Sentence(\"Hello!\"), 'Neutral'), (Sentence(\"Good Morning.\"), 'Positive'), (Sentence(\"How are you today?\"), 'Neutral'), (Sentence(\"sorry for late reply\"), 'Negative')]\n",
            "Sentence: Hello!\n",
            "Sentiment: Neutral\n",
            "\n",
            "Sentence: Good Morning.\n",
            "Sentiment: Positive\n",
            "\n",
            "Sentence: How are you today?\n",
            "Sentiment: Neutral\n",
            "\n",
            "Sentence: sorry for late reply\n",
            "Sentiment: Negative\n",
            "\n"
          ]
        }
      ],
      "source": [
        "from textblob import TextBlob\n",
        "\n",
        "def analyze_sentiments(text):\n",
        "    # Create a TextBlob object\n",
        "    blob = TextBlob(text)\n",
        "\n",
        "    # Initialize a list to store the sentiments of each sentence\n",
        "    sentiments = []\n",
        "\n",
        "    # Analyze sentiment of each sentence in the text\n",
        "    for sentence in blob.sentences:\n",
        "        # Get the sentiment polarity (-1 for negative, 1 for positive)\n",
        "        sentiment_polarity = sentence.sentiment.polarity\n",
        "\n",
        "        # Determine sentiment label based on polarity\n",
        "        if sentiment_polarity > 0:\n",
        "            sentiment = 'Positive'\n",
        "        elif sentiment_polarity < 0:\n",
        "            sentiment = 'Negative'\n",
        "        else:\n",
        "            sentiment = 'Neutral'\n",
        "\n",
        "        # Append sentiment of the sentence to the list\n",
        "        sentiments.append((sentence, sentiment))\n",
        "\n",
        "    return sentiments\n",
        "\n",
        "# Take input text from the user\n",
        "text = input(\"Enter the text for sentiment analysis: \")\n",
        "\n",
        "# Analyze sentiment of the input text\n",
        "sentiment = analyze_sentiments(text)\n",
        "print(\"Sentiment:\", sentiment)\n",
        "\n",
        "# Analyze sentiments of the input text\n",
        "sentiments = analyze_sentiments(text)\n",
        "\n",
        "# Print sentiments of each sentence\n",
        "for sentence, sentiment in sentiments:\n",
        "    print(\"Sentence:\", sentence)\n",
        "    print(\"Sentiment:\", sentiment)\n",
        "    print()\n"
      ]
    }
  ]
}